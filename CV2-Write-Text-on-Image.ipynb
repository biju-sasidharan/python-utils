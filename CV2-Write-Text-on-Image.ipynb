{
 "cells": [
  {
   "cell_type": "markdown",
   "metadata": {},
   "source": [
    "### Write Text on Image - Using CV2\n",
    "\n",
    "This is an utility function used to write text on images. This utility is used to modify README.md file in all github repositories."
   ]
  },
  {
   "cell_type": "code",
   "execution_count": 23,
   "metadata": {},
   "outputs": [],
   "source": [
    "# Load Libraries\n",
    "\n",
    "import os\n",
    "\n",
    "import cv2\n",
    "# import imutils as im"
   ]
  },
  {
   "cell_type": "code",
   "execution_count": 30,
   "metadata": {},
   "outputs": [],
   "source": [
    "# Constants\n",
    "\n",
    "PATH = 'images/' # Images folder\n",
    "INPUT_FILE_NAME = 'FIFA.jpg' # Inpput filename\n",
    "OUTPUT_FILE_NAME = 'FIFA-CV2.jpg' # Inpput filename\n",
    "\n",
    "\n",
    "WINDOW_NAME = 'FIFA' # Window name in which image is displayed\n",
    "\n",
    "TEXT = 'FIFA Worldcup' # text\n",
    "FONT = cv2.FONT_HERSHEY_SIMPLEX # font\n",
    "POSITION = (0, 50) # position\n",
    "FONT_SCALE = 1 # fontScale\n",
    "COLOR = (0, 0, 255) # Text color\n",
    "THICKNESS = 2 # Line thickness"
   ]
  },
  {
   "cell_type": "code",
   "execution_count": 32,
   "metadata": {},
   "outputs": [
    {
     "data": {
      "text/plain": [
       "True"
      ]
     },
     "execution_count": 32,
     "metadata": {},
     "output_type": "execute_result"
    }
   ],
   "source": [
    "img = cv2.imread(os.path.join(PATH, INPUT_FILE_NAME)) # Read image\n",
    "  \n",
    "img = cv2.putText(img, TEXT, POSITION, FONT, FONT_SCALE, \n",
    "                 COLOR, THICKNESS, cv2.LINE_AA, False) # Write test on top of image\n",
    "  \n",
    "cv2.imshow(WINDOW_NAME, img)\n",
    "cv2.waitKey()\n",
    "cv2.destroyWindow(WINDOW_NAME)\n",
    "\n",
    "cv2.imwrite(os.path.join(PATH, OUTPUT_FILE_NAME), img) # Write the modified text to folder"
   ]
  },
  {
   "cell_type": "code",
   "execution_count": null,
   "metadata": {},
   "outputs": [],
   "source": []
  }
 ],
 "metadata": {
  "kernelspec": {
   "display_name": "Python 3",
   "language": "python",
   "name": "python3"
  },
  "language_info": {
   "codemirror_mode": {
    "name": "ipython",
    "version": 3
   },
   "file_extension": ".py",
   "mimetype": "text/x-python",
   "name": "python",
   "nbconvert_exporter": "python",
   "pygments_lexer": "ipython3",
   "version": "3.7.9"
  }
 },
 "nbformat": 4,
 "nbformat_minor": 4
}
